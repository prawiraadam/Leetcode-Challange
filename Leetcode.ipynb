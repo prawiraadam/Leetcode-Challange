{
 "cells": [
  {
   "cell_type": "markdown",
   "metadata": {},
   "source": [
    "# Two Sum"
   ]
  },
  {
   "cell_type": "code",
   "execution_count": 9,
   "metadata": {},
   "outputs": [],
   "source": [
    "nums = [3, 2, 4]\n",
    "target = 6"
   ]
  },
  {
   "cell_type": "code",
   "execution_count": 10,
   "metadata": {},
   "outputs": [
    {
     "name": "stdout",
     "output_type": "stream",
     "text": [
      "RESULT 1 2\n"
     ]
    }
   ],
   "source": [
    "for i in range(len(nums)):\n",
    "    if(i < len(nums)):\n",
    "        for j in range(i+1, len(nums)):\n",
    "            if (nums[i] + nums[j] == target):\n",
    "                print(\"RESULT \" + str(i), str(j))"
   ]
  },
  {
   "cell_type": "code",
   "execution_count": 17,
   "metadata": {
    "collapsed": true
   },
   "outputs": [
    {
     "name": "stdout",
     "output_type": "stream",
     "text": [
      "Target 6\n",
      "Num 3\n",
      "Target - num = 3\n",
      "{3: 0}\n",
      "\n",
      "Target 6\n",
      "Num 2\n",
      "Target - num = 4\n",
      "{3: 0, 2: 1}\n",
      "\n",
      "Target 6\n",
      "Num 4\n",
      "Target - num = 2\n",
      "Result\n",
      "1, 2\n",
      "{3: 0, 2: 1, 4: 2}\n",
      "\n"
     ]
    }
   ],
   "source": [
    "d = {}\n",
    "for i, num in enumerate(nums):\n",
    "    if target-num in d:\n",
    "        return d[target-num], i\n",
    "    d[num] = i"
   ]
  },
  {
   "cell_type": "markdown",
   "metadata": {},
   "source": [
    "## Reverse Integer"
   ]
  },
  {
   "cell_type": "code",
   "execution_count": 102,
   "metadata": {},
   "outputs": [],
   "source": [
    "def reverse(x: int) -> int:\n",
    "    num = ''\n",
    "    neg = ''\n",
    "\n",
    "    if str(x)[0] == '-':\n",
    "        neg = '-'\n",
    "\n",
    "    for i in range(len(str(x))):\n",
    "        temp = str(x)[len(str(x)) - 1 - i]\n",
    "        if temp == '0' and num != '':\n",
    "            num += temp\n",
    "        elif temp != '-' and temp != '0':\n",
    "            num += temp\n",
    "\n",
    "    if not num:\n",
    "        return x\n",
    "    elif int(num) >= (2 ** 31) or int(num) <= (-2 ** 31):\n",
    "        return 0\n",
    "    else:\n",
    "        return neg + num"
   ]
  },
  {
   "cell_type": "markdown",
   "metadata": {},
   "source": [
    "## Palindrome number"
   ]
  },
  {
   "cell_type": "code",
   "execution_count": 4,
   "metadata": {},
   "outputs": [
    {
     "name": "stdout",
     "output_type": "stream",
     "text": [
      "True\n"
     ]
    }
   ],
   "source": [
    "x = 10022201\n",
    "\n",
    "res = \"True\"\n",
    "i = 0\n",
    "while i < (len(str(x)) / 2):\n",
    "    if str(x)[len(str(x)) - i - 1] != str(x)[i]:\n",
    "        res = \"False\"\n",
    "    i += i + 1\n",
    "    \n",
    "print(res)"
   ]
  },
  {
   "cell_type": "markdown",
   "metadata": {},
   "source": [
    "## Roman to Integer"
   ]
  },
  {
   "cell_type": "code",
   "execution_count": 24,
   "metadata": {},
   "outputs": [
    {
     "name": "stdout",
     "output_type": "stream",
     "text": [
      "1994\n"
     ]
    }
   ],
   "source": [
    "roman = \"MCMXCIV\"\n",
    "i = 0\n",
    "res = 0\n",
    "\n",
    "while i < len(roman):\n",
    "    if roman[i] == \"I\":\n",
    "        if i != len(roman) - 1:\n",
    "            if roman[i+1] == \"V\":\n",
    "                res += 4\n",
    "                i += 2\n",
    "            elif roman[i+1] == \"X\":\n",
    "                res += 9\n",
    "                i += 2\n",
    "            else:\n",
    "                res += 1\n",
    "                i += 1\n",
    "        else:\n",
    "            res += 1\n",
    "            i += 1\n",
    "    elif roman[i] == \"X\":\n",
    "        if i != len(roman) - 1:\n",
    "            if roman[i+1] == \"L\":\n",
    "                res += 40\n",
    "                i += 2\n",
    "            elif roman[i+1] == \"C\":\n",
    "                res += 90\n",
    "                i += 2\n",
    "            else:\n",
    "                res += 10\n",
    "                i += 1\n",
    "        else:\n",
    "            res += 10\n",
    "            i += 1\n",
    "    elif roman[i] == \"C\":\n",
    "        if i != len(roman) - 1:\n",
    "            if roman[i+1] == \"D\":\n",
    "                res += 400\n",
    "                i += 2\n",
    "            elif roman[i+1] == \"M\":\n",
    "                res += 900\n",
    "                i += 2\n",
    "            else:\n",
    "                res += 100\n",
    "                i += 1\n",
    "        else:\n",
    "            res += 100\n",
    "            i += 1\n",
    "    elif roman[i] == \"V\":\n",
    "        res += 5\n",
    "        i += 1\n",
    "    elif roman[i] == \"L\":\n",
    "        res += 50\n",
    "        i += 1\n",
    "    elif roman[i] == \"D\":\n",
    "        res += 500\n",
    "        i += 1\n",
    "    elif roman[i] == \"M\":\n",
    "        res += 1000\n",
    "        i += 1\n",
    "        \n",
    "print(res)"
   ]
  },
  {
   "cell_type": "code",
   "execution_count": 39,
   "metadata": {},
   "outputs": [
    {
     "name": "stdout",
     "output_type": "stream",
     "text": [
      "1907\n"
     ]
    }
   ],
   "source": [
    "# Algo from discussion\n",
    "roman = {\"I\": 1, \"V\": 5, \"X\": 10, \"L\": 50, \"C\": 100, \"D\": 500, \"M\": 1000}\n",
    "s = \"MCMVII\"\n",
    "res = 0\n",
    "\n",
    "for i in range(len(s) - 1):\n",
    "    if roman[s[i]] < roman[s[i+1]]:\n",
    "        res -= roman[s[i]]\n",
    "    else:\n",
    "        res += roman[s[i]]\n",
    "\n",
    "print(res + roman[s[-1]])"
   ]
  },
  {
   "cell_type": "markdown",
   "metadata": {},
   "source": [
    "## Valid Parenthesis"
   ]
  },
  {
   "cell_type": "code",
   "execution_count": 44,
   "metadata": {},
   "outputs": [
    {
     "name": "stdout",
     "output_type": "stream",
     "text": [
      "False\n"
     ]
    }
   ],
   "source": [
    "s = \"(){}}{\"\n",
    "\n",
    "i = 0\n",
    "res = True\n",
    "s = list(s)\n",
    "\n",
    "while s:\n",
    "    if i == len(s)-1:\n",
    "        res = False\n",
    "        break\n",
    "    elif (s[i] == '[' and s[i+1] == ']') or (s[i] == '{' and s[i+1] == '}') or (s[i] == '(' and s[i+1] == ')'):\n",
    "        s.pop(i+1)\n",
    "        s.pop(i)\n",
    "        if i > 0:\n",
    "            i -= 1\n",
    "    elif s[i+1] == ']' or s[i+1] == '}' or s[i+1] == ')':\n",
    "        res = False\n",
    "        break\n",
    "    else:\n",
    "        i += 1\n",
    "print(res)"
   ]
  },
  {
   "cell_type": "markdown",
   "metadata": {},
   "source": [
    "## Merge two sorted list"
   ]
  },
  {
   "cell_type": "code",
   "execution_count": 10,
   "metadata": {},
   "outputs": [
    {
     "name": "stdout",
     "output_type": "stream",
     "text": [
      "4\n",
      "[1, 2, 3]\n"
     ]
    }
   ],
   "source": [
    "a = [1, 2, 3, 4]\n",
    "print(a.pop())\n",
    "print(a)"
   ]
  },
  {
   "cell_type": "code",
   "execution_count": 23,
   "metadata": {},
   "outputs": [
    {
     "name": "stdout",
     "output_type": "stream",
     "text": [
      "A\n",
      "A\n",
      "B\n",
      "C\n",
      "[1, 1, 2, 2, 8, 10]\n"
     ]
    }
   ],
   "source": [
    "l1 = [1, 2, 8]\n",
    "l2 = [1, 2, 10]\n",
    "res = []\n",
    "shortest = 0\n",
    "\n",
    "if not l1 and not l2:\n",
    "    print('[]')\n",
    "elif not l1 and l2:\n",
    "    print(l2)\n",
    "elif l1 and not l2:\n",
    "    print(l1)\n",
    "elif len(l1) < len(l2):\n",
    "    shortest = len(l1)\n",
    "elif len(l2) <= len(l1):\n",
    "    shortest = len(l2)\n",
    "\n",
    "if shortest != 0:\n",
    "    for i in range(shortest):\n",
    "        if l1[i] == l2[i]:\n",
    "            print(\"A\")\n",
    "            res.append(l1[i])\n",
    "            res.append(l2[i])\n",
    "        elif l1[i] < l2[i]:\n",
    "            print(\"B\")\n",
    "            if l1[i] >= res[len(res) - 1]:\n",
    "                print(\"C\")\n",
    "                res.append(l1[i])\n",
    "                res.append(l2[i])\n",
    "            else:\n",
    "                print(\"D\")\n",
    "                temp = res.pop()\n",
    "                res.append(l1[i])\n",
    "                if l2[i] > temp:\n",
    "                    print(\"E\")\n",
    "                    res.append(temp)\n",
    "                    res.append(l2[i])\n",
    "                else:\n",
    "                    print(\"F\")\n",
    "                    res.append(l2[i])\n",
    "                    res.append(temp)\n",
    "        else:\n",
    "            print(\"HAHA\")\n",
    "            if l2[i] >= res[len(res) - 1]:\n",
    "                print(\"G\")\n",
    "                res.append(l2[i])\n",
    "                res.append(l1[i])\n",
    "            else:\n",
    "                print(\"H\")\n",
    "                temp = res.pop()\n",
    "                res.append(l2[i])\n",
    "                if l1[i] > temp:\n",
    "                    res.append(temp)\n",
    "                    res.append(l1[i])\n",
    "                else:\n",
    "                    res.append(l1[i])\n",
    "                    res.append(temp)\n",
    "print(res)"
   ]
  },
  {
   "cell_type": "code",
   "execution_count": null,
   "metadata": {},
   "outputs": [],
   "source": []
  }
 ],
 "metadata": {
  "kernelspec": {
   "display_name": "Python 3",
   "language": "python",
   "name": "python3"
  },
  "language_info": {
   "codemirror_mode": {
    "name": "ipython",
    "version": 3
   },
   "file_extension": ".py",
   "mimetype": "text/x-python",
   "name": "python",
   "nbconvert_exporter": "python",
   "pygments_lexer": "ipython3",
   "version": "3.7.1"
  }
 },
 "nbformat": 4,
 "nbformat_minor": 4
}
